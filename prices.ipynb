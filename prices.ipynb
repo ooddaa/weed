{
 "cells": [
  {
   "cell_type": "markdown",
   "id": "135f08ce",
   "metadata": {},
   "source": [
    "[Cannabis Store Checker](https://thecannabispages.co.uk/cbmps-stock-checker/)\n",
    "\n",
    "[Requests](https://docs.python-requests.org/en/latest/)\n",
    "\n",
    "[BeautifulSoup docs](https://www.crummy.com/software/BeautifulSoup/bs4/doc/)\n",
    "\n",
    "[Parse Websites](https://okhlopkov.com/how-to-parse-any-website/)"
   ]
  },
  {
   "cell_type": "code",
   "execution_count": 5,
   "id": "1ddf5459",
   "metadata": {
    "collapsed": true
   },
   "outputs": [
    {
     "name": "stdout",
     "output_type": "stream",
     "text": [
      "Collecting requests\n",
      "  Downloading requests-2.27.1-py2.py3-none-any.whl (63 kB)\n",
      "Collecting charset-normalizer~=2.0.0\n",
      "  Downloading charset_normalizer-2.0.11-py3-none-any.whl (39 kB)\n",
      "Collecting urllib3<1.27,>=1.21.1\n",
      "  Downloading urllib3-1.26.8-py2.py3-none-any.whl (138 kB)\n",
      "Collecting certifi>=2017.4.17\n",
      "  Using cached certifi-2021.10.8-py2.py3-none-any.whl (149 kB)\n",
      "Collecting idna<4,>=2.5\n",
      "  Using cached idna-3.3-py3-none-any.whl (61 kB)\n",
      "Installing collected packages: urllib3, idna, charset-normalizer, certifi, requests\n",
      "Successfully installed certifi-2021.10.8 charset-normalizer-2.0.11 idna-3.3 requests-2.27.1 urllib3-1.26.8\n"
     ]
    },
    {
     "name": "stderr",
     "output_type": "stream",
     "text": [
      "WARNING: You are using pip version 21.2.3; however, version 22.0.2 is available.\n",
      "You should consider upgrading via the 'C:\\Users\\Dmitry\\AppData\\Local\\Programs\\Python\\Python310\\python.exe -m pip install --upgrade pip' command.\n"
     ]
    }
   ],
   "source": [
    "!pip install requests\n"
   ]
  },
  {
   "cell_type": "code",
   "execution_count": 2,
   "id": "d3e8879b",
   "metadata": {},
   "outputs": [],
   "source": [
    "from bs4 import BeautifulSoup"
   ]
  },
  {
   "cell_type": "code",
   "execution_count": 6,
   "id": "2b38ab3a",
   "metadata": {},
   "outputs": [],
   "source": [
    "url = 'https://thecannabispages.co.uk/cbmps-stock-checker/'"
   ]
  },
  {
   "cell_type": "code",
   "execution_count": 12,
   "id": "d7131d27",
   "metadata": {},
   "outputs": [
    {
     "data": {
      "text/plain": [
       "200"
      ]
     },
     "execution_count": 12,
     "metadata": {},
     "output_type": "execute_result"
    }
   ],
   "source": [
    "curl = 'curl \"https://thecannabispages.co.uk/wp-admin/admin-ajax.php?action=wp_ajax_ninja_tables_public_action&table_id=4459&target_action=get-all-data&default_sorting=old_first&ninja_table_public_nonce=4f5bced4c3\" ^\n",
    "  -H \"authority: thecannabispages.co.uk\" ^\n",
    "  -H \"sec-ch-ua: ^\\^\" Not;A Brand^\\^\";v=^\\^\"99^\\^\", ^\\^\"Google Chrome^\\^\";v=^\\^\"97^\\^\", ^\\^\"Chromium^\\^\";v=^\\^\"97^\\^\"\" ^\n",
    "  -H \"accept: */*\" ^\n",
    "  -H \"x-requested-with: XMLHttpRequest\" ^\n",
    "  -H \"sec-ch-ua-mobile: ?0\" ^\n",
    "  -H \"user-agent: Mozilla/5.0 (Windows NT 10.0; Win64; x64) AppleWebKit/537.36 (KHTML, like Gecko) Chrome/97.0.4692.71 Safari/537.36\" ^\n",
    "  -H \"sec-ch-ua-platform: ^\\^\"Windows^\\^\"\" ^\n",
    "  -H \"sec-fetch-site: same-origin\" ^\n",
    "  -H \"sec-fetch-mode: cors\" ^\n",
    "  -H \"sec-fetch-dest: empty\" ^\n",
    "  -H \"referer: https://thecannabispages.co.uk/cbmps-stock-checker/\" ^\n",
    "  -H \"accept-language: en-GB,en-US;q=0.9,en;q=0.8,ru;q=0.7\" ^\n",
    "  -H \"cookie: cookielawinfo-checkbox-necessary=yes; _tccl_visitor=265cf2db-1459-4528-b569-0bc951771ab3; cookielawinfo-checkbox-functional=yes; cookielawinfo-checkbox-performance=yes; cookielawinfo-checkbox-analytics=yes; cookielawinfo-checkbox-advertisement=yes; cookielawinfo-checkbox-others=yes; CookieLawInfoConsent=eyJuZWNlc3NhcnkiOnRydWUsImZ1bmN0aW9uYWwiOnRydWUsInBlcmZvcm1hbmNlIjp0cnVlLCJhbmFseXRpY3MiOnRydWUsImFkdmVydGlzZW1lbnQiOnRydWUsIm90aGVycyI6dHJ1ZX0=; viewed_cookie_policy=yes; _tccl_visit=265d0a3f-8980-465c-9648-0d9a380960e5\" ^\n",
    "  -H \"sec-gpc: 1\" ^\n",
    "  --compressed'"
   ]
  },
  {
   "cell_type": "code",
   "execution_count": null,
   "id": "94673f17",
   "metadata": {},
   "outputs": [],
   "source": [
    "fetch(\"https://thecannabispages.co.uk/wp-admin/admin-ajax.php?action=wp_ajax_ninja_tables_public_action&table_id=4459&target_action=get-all-data&default_sorting=old_first&ninja_table_public_nonce=4f5bced4c3\", {\n",
    "  \"headers\": {\n",
    "    \"accept\": \"*/*\",\n",
    "    \"accept-language\": \"en-GB,en-US;q=0.9,en;q=0.8,ru;q=0.7\",\n",
    "    \"sec-ch-ua\": \"\\\" Not;A Brand\\\";v=\\\"99\\\", \\\"Google Chrome\\\";v=\\\"97\\\", \\\"Chromium\\\";v=\\\"97\\\"\",\n",
    "    \"sec-ch-ua-mobile\": \"?0\",\n",
    "    \"sec-ch-ua-platform\": \"\\\"Windows\\\"\",\n",
    "    \"sec-fetch-dest\": \"empty\",\n",
    "    \"sec-fetch-mode\": \"cors\",\n",
    "    \"sec-fetch-site\": \"same-origin\",\n",
    "    \"sec-gpc\": \"1\",\n",
    "    \"x-requested-with\": \"XMLHttpRequest\"\n",
    "  },\n",
    "  \"referrer\": \"https://thecannabispages.co.uk/cbmps-stock-checker/\",\n",
    "  \"referrerPolicy\": \"strict-origin-when-cross-origin\",\n",
    "  \"body\": null,\n",
    "  \"method\": \"GET\",\n",
    "  \"mode\": \"cors\",\n",
    "  \"credentials\": \"include\"\n",
    "});"
   ]
  },
  {
   "cell_type": "code",
   "execution_count": null,
   "id": "1f27dd50",
   "metadata": {},
   "outputs": [],
   "source": [
    "fetch(\"https://thecannabispages.co.uk/wp-admin/admin-ajax.php?action=wp_ajax_ninja_tables_public_action&table_id=4459&target_action=get-all-data&default_sorting=old_first&ninja_table_public_nonce=4f5bced4c3\", {\n",
    "  \"headers\": {\n",
    "    \"accept\": \"*/*\",\n",
    "    \"accept-language\": \"en-GB,en-US;q=0.9,en;q=0.8,ru;q=0.7\",\n",
    "    \"sec-ch-ua\": \"\\\" Not;A Brand\\\";v=\\\"99\\\", \\\"Google Chrome\\\";v=\\\"97\\\", \\\"Chromium\\\";v=\\\"97\\\"\",\n",
    "    \"sec-ch-ua-mobile\": \"?0\",\n",
    "    \"sec-ch-ua-platform\": \"\\\"Windows\\\"\",\n",
    "    \"sec-fetch-dest\": \"empty\",\n",
    "    \"sec-fetch-mode\": \"cors\",\n",
    "    \"sec-fetch-site\": \"same-origin\",\n",
    "    \"sec-gpc\": \"1\",\n",
    "    \"x-requested-with\": \"XMLHttpRequest\",\n",
    "    \"cookie\": \"cookielawinfo-checkbox-necessary=yes; _tccl_visitor=265cf2db-1459-4528-b569-0bc951771ab3; cookielawinfo-checkbox-functional=yes; cookielawinfo-checkbox-performance=yes; cookielawinfo-checkbox-analytics=yes; cookielawinfo-checkbox-advertisement=yes; cookielawinfo-checkbox-others=yes; CookieLawInfoConsent=eyJuZWNlc3NhcnkiOnRydWUsImZ1bmN0aW9uYWwiOnRydWUsInBlcmZvcm1hbmNlIjp0cnVlLCJhbmFseXRpY3MiOnRydWUsImFkdmVydGlzZW1lbnQiOnRydWUsIm90aGVycyI6dHJ1ZX0=; viewed_cookie_policy=yes; _tccl_visit=265d0a3f-8980-465c-9648-0d9a380960e5\",\n",
    "    \"Referer\": \"https://thecannabispages.co.uk/cbmps-stock-checker/\",\n",
    "    \"Referrer-Policy\": \"strict-origin-when-cross-origin\"\n",
    "  },\n",
    "  \"body\": null,\n",
    "  \"method\": \"GET\"\n",
    "});"
   ]
  },
  {
   "cell_type": "code",
   "execution_count": 50,
   "id": "f12c6ecb",
   "metadata": {},
   "outputs": [
    {
     "name": "stdout",
     "output_type": "stream",
     "text": [
      "{'Date': 'Mon, 31 Jan 2022 12:37:12 GMT', 'Content-Type': 'text/html; charset=UTF-8', 'Transfer-Encoding': 'chunked', 'Connection': 'keep-alive', 'age': '11', 'content-security-policy': 'upgrade-insecure-requests', 'strict-transport-security': 'max-age=300, max-age=31536000; includeSubDomains', 'vary': 'Accept-Encoding, User-Agent', 'x-backend': 'local', 'x-cache': 'cached', 'x-cache-hit': 'HIT', 'x-cacheable': 'YES:Forced', 'x-content-type-options': 'nosniff', 'x-xss-protection': '1; mode=block', 'CF-Cache-Status': 'DYNAMIC', 'Expect-CT': 'max-age=604800, report-uri=\"https://report-uri.cloudflare.com/cdn-cgi/beacon/expect-ct\"', 'Report-To': '{\"endpoints\":[{\"url\":\"https:\\\\/\\\\/a.nel.cloudflare.com\\\\/report\\\\/v3?s=jtdBhRF5fmYSAqmaXZzNN3DaLOR%2BkDq1OtWFWGETYOOyC%2BvIfiH%2Fs3jHlIlpvmFrBMQH1zesfDGXg0i6yO6M%2FUB4LIBw1so%2FsV4G6VCMrS8w8ZNUQ6ZAtR8J5WkYnnyT5H2Fpsy5xHbz\"}],\"group\":\"cf-nel\",\"max_age\":604800}', 'NEL': '{\"success_fraction\":0,\"report_to\":\"cf-nel\",\"max_age\":604800}', 'Server': 'cloudflare', 'CF-RAY': '6d62fd6faf8b88c2-LHR', 'Content-Encoding': 'br', 'alt-svc': 'h3=\":443\"; ma=86400, h3-29=\":443\"; ma=86400'}\n"
     ]
    },
    {
     "ename": "AttributeError",
     "evalue": "'NoneType' object has no attribute 'text'",
     "output_type": "error",
     "traceback": [
      "\u001b[1;31m---------------------------------------------------------------------\u001b[0m",
      "\u001b[1;31mAttributeError\u001b[0m                      Traceback (most recent call last)",
      "\u001b[1;32m~\\AppData\\Local\\Temp/ipykernel_19556/1338164070.py\u001b[0m in \u001b[0;36m<module>\u001b[1;34m\u001b[0m\n\u001b[0;32m     10\u001b[0m \u001b[0mprint\u001b[0m\u001b[1;33m(\u001b[0m\u001b[0mr\u001b[0m\u001b[1;33m.\u001b[0m\u001b[0mheaders\u001b[0m\u001b[1;33m)\u001b[0m\u001b[1;33m\u001b[0m\u001b[1;33m\u001b[0m\u001b[0m\n\u001b[0;32m     11\u001b[0m \u001b[0msoup\u001b[0m \u001b[1;33m=\u001b[0m \u001b[0mBeautifulSoup\u001b[0m\u001b[1;33m(\u001b[0m\u001b[0mr\u001b[0m\u001b[1;33m.\u001b[0m\u001b[0mtext\u001b[0m\u001b[1;33m,\u001b[0m \u001b[1;34m'html.parser'\u001b[0m\u001b[1;33m)\u001b[0m\u001b[1;33m\u001b[0m\u001b[1;33m\u001b[0m\u001b[0m\n\u001b[1;32m---> 12\u001b[1;33m \u001b[0mprint\u001b[0m\u001b[1;33m(\u001b[0m\u001b[0msoup\u001b[0m\u001b[1;33m.\u001b[0m\u001b[0mtitle\u001b[0m\u001b[1;33m.\u001b[0m\u001b[0mtext\u001b[0m\u001b[1;33m)\u001b[0m\u001b[1;33m\u001b[0m\u001b[1;33m\u001b[0m\u001b[0m\n\u001b[0m",
      "\u001b[1;31mAttributeError\u001b[0m: 'NoneType' object has no attribute 'text'"
     ]
    }
   ],
   "source": [
    "import requests\n",
    "\n",
    "headers = {\n",
    "    'user-agent': 'Mozilla/5.0 (Windows NT 10.0; Win64; x64) AppleWebKit/537.36 (KHTML, like Gecko) Chrome/97.0.4692.71 Safari/537.36',\n",
    "    'upgrade-insecure-requests': '1',\n",
    "    'accept-encoding': 'gzip, deflate, br',\n",
    "#     'cookie': 'cookielawinfo-checkbox-necessary=yes; _tccl_visitor=265cf2db-1459-4528-b569-0bc951771ab3; cookielawinfo-checkbox-functional=yes; cookielawinfo-checkbox-performance=yes; cookielawinfo-checkbox-analytics=yes; cookielawinfo-checkbox-advertisement=yes; cookielawinfo-checkbox-others=yes; CookieLawInfoConsent=eyJuZWNlc3NhcnkiOnRydWUsImZ1bmN0aW9uYWwiOnRydWUsInBlcmZvcm1hbmNlIjp0cnVlLCJhbmFseXRpY3MiOnRydWUsImFkdmVydGlzZW1lbnQiOnRydWUsIm90aGVycyI6dHJ1ZX0=; viewed_cookie_policy=yes'\n",
    "}\n",
    "r = requests.get(url, headers=headers)\n",
    "print(r.headers)\n",
    "soup = BeautifulSoup(r.text, 'html.parser')\n",
    "print(soup.title.text)"
   ]
  },
  {
   "cell_type": "code",
   "execution_count": 47,
   "id": "641042a0",
   "metadata": {},
   "outputs": [
    {
     "data": {
      "text/plain": [
       "'<!DOCTYPE html>\\n<html dir=\"ltr\">\\n <head>\\n  <meta content=\"text/html; charset=utf-8\" http-equiv=\"Content-Type\"/>\\n  <meta content=\"width=device-width\" name=\"viewport\"/>\\n  <title>\\n   Maintenance\\n  </title>\\n  <style type=\"text/css\">\\n   html {\\n\\t\\t\\tbackground: #f1f1f1;\\n\\t\\t}\\n\\t\\tbody {\\n\\t\\t\\tbackground: #fff;\\n\\t\\t\\tborder: 1px solid #ccd0d4;\\n\\t\\t\\tcolor: #444;\\n\\t\\t\\tfont-family: -apple-system, BlinkMacSystemFont, \"Segoe UI\", Roboto, Oxygen-Sans, Ubuntu, Cantarell, \"Helvetica Neue\", sans-serif;\\n\\t\\t\\tmargin: 2em auto;\\n\\t\\t\\tpadding: 1em 2em;\\n\\t\\t\\tmax-width: 700px;\\n\\t\\t\\t-webkit-box-shadow: 0 1px 1px rgba(0, 0, 0, .04);\\n\\t\\t\\tbox-shadow: 0 1px 1px rgba(0, 0, 0, .04);\\n\\t\\t}\\n\\t\\th1 {\\n\\t\\t\\tborder-bottom: 1px solid #dadada;\\n\\t\\t\\tclear: both;\\n\\t\\t\\tcolor: #666;\\n\\t\\t\\tfont-size: 24px;\\n\\t\\t\\tmargin: 30px 0 0 0;\\n\\t\\t\\tpadding: 0;\\n\\t\\t\\tpadding-bottom: 7px;\\n\\t\\t}\\n\\t\\t#error-page {\\n\\t\\t\\tmargin-top: 50px;\\n\\t\\t}\\n\\t\\t#error-page p,\\n\\t\\t#error-page .wp-die-message {\\n\\t\\t\\tfont-size: 14px;\\n\\t\\t\\tline-height: 1.5;\\n\\t\\t\\tmargin: 25px 0 20px;\\n\\t\\t}\\n\\t\\t#error-page code {\\n\\t\\t\\tfont-family: Consolas, Monaco, monospace;\\n\\t\\t}\\n\\t\\tul li {\\n\\t\\t\\tmargin-bottom: 10px;\\n\\t\\t\\tfont-size: 14px ;\\n\\t\\t}\\n\\t\\ta {\\n\\t\\t\\tcolor: #0073aa;\\n\\t\\t}\\n\\t\\ta:hover,\\n\\t\\ta:active {\\n\\t\\t\\tcolor: #006799;\\n\\t\\t}\\n\\t\\ta:focus {\\n\\t\\t\\tcolor: #124964;\\n\\t\\t\\t-webkit-box-shadow:\\n\\t\\t\\t\\t0 0 0 1px #5b9dd9,\\n\\t\\t\\t\\t0 0 2px 1px rgba(30, 140, 190, 0.8);\\n\\t\\t\\tbox-shadow:\\n\\t\\t\\t\\t0 0 0 1px #5b9dd9,\\n\\t\\t\\t\\t0 0 2px 1px rgba(30, 140, 190, 0.8);\\n\\t\\t\\toutline: none;\\n\\t\\t}\\n\\t\\t.button {\\n\\t\\t\\tbackground: #f3f5f6;\\n\\t\\t\\tborder: 1px solid #016087;\\n\\t\\t\\tcolor: #016087;\\n\\t\\t\\tdisplay: inline-block;\\n\\t\\t\\ttext-decoration: none;\\n\\t\\t\\tfont-size: 13px;\\n\\t\\t\\tline-height: 2;\\n\\t\\t\\theight: 28px;\\n\\t\\t\\tmargin: 0;\\n\\t\\t\\tpadding: 0 10px 1px;\\n\\t\\t\\tcursor: pointer;\\n\\t\\t\\t-webkit-border-radius: 3px;\\n\\t\\t\\t-webkit-appearance: none;\\n\\t\\t\\tborder-radius: 3px;\\n\\t\\t\\twhite-space: nowrap;\\n\\t\\t\\t-webkit-box-sizing: border-box;\\n\\t\\t\\t-moz-box-sizing:    border-box;\\n\\t\\t\\tbox-sizing:         border-box;\\n\\n\\t\\t\\tvertical-align: top;\\n\\t\\t}\\n\\n\\t\\t.button.button-large {\\n\\t\\t\\tline-height: 2.30769231;\\n\\t\\t\\tmin-height: 32px;\\n\\t\\t\\tpadding: 0 12px;\\n\\t\\t}\\n\\n\\t\\t.button:hover,\\n\\t\\t.button:focus {\\n\\t\\t\\tbackground: #f1f1f1;\\n\\t\\t}\\n\\n\\t\\t.button:focus {\\n\\t\\t\\tbackground: #f3f5f6;\\n\\t\\t\\tborder-color: #007cba;\\n\\t\\t\\t-webkit-box-shadow: 0 0 0 1px #007cba;\\n\\t\\t\\tbox-shadow: 0 0 0 1px #007cba;\\n\\t\\t\\tcolor: #016087;\\n\\t\\t\\toutline: 2px solid transparent;\\n\\t\\t\\toutline-offset: 0;\\n\\t\\t}\\n\\n\\t\\t.button:active {\\n\\t\\t\\tbackground: #f3f5f6;\\n\\t\\t\\tborder-color: #7e8993;\\n\\t\\t\\t-webkit-box-shadow: none;\\n\\t\\t\\tbox-shadow: none;\\n\\t\\t}\\n  </style>\\n  <script async=\"\" src=\"/cdn-cgi/challenge-platform/h/b/scripts/invisible.js\">\\n  </script>\\n </head>\\n <body id=\"error-page\">\\n  <div class=\"wp-die-message\">\\n   Briefly unavailable for scheduled maintenance. Check back in a minute.\\n  </div>\\n  <script type=\"text/javascript\">\\n   (function(){window[\\'__CF$cv$params\\']={r:\\'6d62ef6d7db271e7\\',m:\\'KT6fUYWpEEaNe.Gra7ulKo8OGRyrqmpqkrPbixQUHcU-1643632059-0-AZFlE2eeGqid1JwDKa0vco9E+HyuZlOtHWNo8fzfxWsD5IcoA6Hsh0ctW81Y0pEMvG9zGY6JeUZaP0Tfl8Lp4n/8x07Cpkgjdf7+fGmgFbETpMCfA++XnLQlpDnZDVZxxVXb0xMIjBAZPv9wv50LTIU=\\',s:[0xd1379061d2,0x2572b8fa49],u:\\'/cdn-cgi/challenge-platform/h/b\\'}})();\\n  </script>\\n </body>\\n</html>\\n'"
      ]
     },
     "execution_count": 47,
     "metadata": {},
     "output_type": "execute_result"
    }
   ],
   "source": [
    "soup.prettify()"
   ]
  },
  {
   "cell_type": "code",
   "execution_count": 20,
   "id": "57877067",
   "metadata": {
    "collapsed": true
   },
   "outputs": [
    {
     "data": {
      "text/plain": [
       "[<tr>\n",
       " <td>\n",
       " <table width=\"100%\">\n",
       " <tbody>\n",
       " <tr>\n",
       " <td width=\"600\">\n",
       " <table width=\"100%\">\n",
       " <tbody>\n",
       " <tr>\n",
       " <td>\n",
       " <p>We recently announced a <a href=\"https://drugscience.us13.list-manage.com/track/click?u=1964914407d6051008b632445&amp;id=2cf36d55da&amp;e=5c266cdd2d\" rel=\"noopener\" target=\"_blank\">change to the pricing model</a> of Project Twenty21. We understand that the news was unwelcome for some patients, especially for those who are prescribed higher dosages or on significantly lower incomes.</p>\n",
       " <p>We take people’s concerns seriously, and recognise that patients would benefit from having more time to work through the inevitable financial implications. So we have agreed with the project’s partners that the pricing model will not come into effect until <strong>1st March</strong>.</p>\n",
       " <p>In addition to this extension, between now and March, <strong>Drug Science will be continuing discussions with Project Twenty21 partners</strong>. We do appreciate all that you say, and are collectively working hard to alleviate these issues where possible. We hope to make a more welcome statement as soon as possible.</p>\n",
       " <p>We are committed to ensuring that Project Twenty21 can continue for as long as it is is able to, so that we can collect the essential data needed to <strong>influence NHS funding for medical cannabis</strong>. And if we can successfully advocate for future changes that benefit enrolled patients, we will.</p>\n",
       " </td>\n",
       " </tr>\n",
       " </tbody>\n",
       " </table>\n",
       " </td>\n",
       " </tr>\n",
       " </tbody>\n",
       " </table>\n",
       " </td>\n",
       " </tr>,\n",
       " <tr>\n",
       " <td width=\"600\">\n",
       " <table width=\"100%\">\n",
       " <tbody>\n",
       " <tr>\n",
       " <td>\n",
       " <p>We recently announced a <a href=\"https://drugscience.us13.list-manage.com/track/click?u=1964914407d6051008b632445&amp;id=2cf36d55da&amp;e=5c266cdd2d\" rel=\"noopener\" target=\"_blank\">change to the pricing model</a> of Project Twenty21. We understand that the news was unwelcome for some patients, especially for those who are prescribed higher dosages or on significantly lower incomes.</p>\n",
       " <p>We take people’s concerns seriously, and recognise that patients would benefit from having more time to work through the inevitable financial implications. So we have agreed with the project’s partners that the pricing model will not come into effect until <strong>1st March</strong>.</p>\n",
       " <p>In addition to this extension, between now and March, <strong>Drug Science will be continuing discussions with Project Twenty21 partners</strong>. We do appreciate all that you say, and are collectively working hard to alleviate these issues where possible. We hope to make a more welcome statement as soon as possible.</p>\n",
       " <p>We are committed to ensuring that Project Twenty21 can continue for as long as it is is able to, so that we can collect the essential data needed to <strong>influence NHS funding for medical cannabis</strong>. And if we can successfully advocate for future changes that benefit enrolled patients, we will.</p>\n",
       " </td>\n",
       " </tr>\n",
       " </tbody>\n",
       " </table>\n",
       " </td>\n",
       " </tr>,\n",
       " <tr>\n",
       " <td>\n",
       " <p>We recently announced a <a href=\"https://drugscience.us13.list-manage.com/track/click?u=1964914407d6051008b632445&amp;id=2cf36d55da&amp;e=5c266cdd2d\" rel=\"noopener\" target=\"_blank\">change to the pricing model</a> of Project Twenty21. We understand that the news was unwelcome for some patients, especially for those who are prescribed higher dosages or on significantly lower incomes.</p>\n",
       " <p>We take people’s concerns seriously, and recognise that patients would benefit from having more time to work through the inevitable financial implications. So we have agreed with the project’s partners that the pricing model will not come into effect until <strong>1st March</strong>.</p>\n",
       " <p>In addition to this extension, between now and March, <strong>Drug Science will be continuing discussions with Project Twenty21 partners</strong>. We do appreciate all that you say, and are collectively working hard to alleviate these issues where possible. We hope to make a more welcome statement as soon as possible.</p>\n",
       " <p>We are committed to ensuring that Project Twenty21 can continue for as long as it is is able to, so that we can collect the essential data needed to <strong>influence NHS funding for medical cannabis</strong>. And if we can successfully advocate for future changes that benefit enrolled patients, we will.</p>\n",
       " </td>\n",
       " </tr>,\n",
       " <tr><th class=\"cookielawinfo-column-1\">Cookie</th><th class=\"cookielawinfo-column-3\">Duration</th><th class=\"cookielawinfo-column-4\">Description</th></tr>,\n",
       " <tr class=\"cookielawinfo-row\"><td class=\"cookielawinfo-column-1\">cookielawinfo-checkbox-analytics</td><td class=\"cookielawinfo-column-3\">11 months</td><td class=\"cookielawinfo-column-4\">This cookie is set by GDPR Cookie Consent plugin. The cookie is used to store the user consent for the cookies in the category \"Analytics\".</td></tr>,\n",
       " <tr class=\"cookielawinfo-row\"><td class=\"cookielawinfo-column-1\">cookielawinfo-checkbox-functional</td><td class=\"cookielawinfo-column-3\">11 months</td><td class=\"cookielawinfo-column-4\">The cookie is set by GDPR cookie consent to record the user consent for the cookies in the category \"Functional\".</td></tr>,\n",
       " <tr class=\"cookielawinfo-row\"><td class=\"cookielawinfo-column-1\">cookielawinfo-checkbox-necessary</td><td class=\"cookielawinfo-column-3\">11 months</td><td class=\"cookielawinfo-column-4\">This cookie is set by GDPR Cookie Consent plugin. The cookies is used to store the user consent for the cookies in the category \"Necessary\".</td></tr>,\n",
       " <tr class=\"cookielawinfo-row\"><td class=\"cookielawinfo-column-1\">cookielawinfo-checkbox-others</td><td class=\"cookielawinfo-column-3\">11 months</td><td class=\"cookielawinfo-column-4\">This cookie is set by GDPR Cookie Consent plugin. The cookie is used to store the user consent for the cookies in the category \"Other.</td></tr>,\n",
       " <tr class=\"cookielawinfo-row\"><td class=\"cookielawinfo-column-1\">cookielawinfo-checkbox-performance</td><td class=\"cookielawinfo-column-3\">11 months</td><td class=\"cookielawinfo-column-4\">This cookie is set by GDPR Cookie Consent plugin. The cookie is used to store the user consent for the cookies in the category \"Performance\".</td></tr>,\n",
       " <tr class=\"cookielawinfo-row\"><td class=\"cookielawinfo-column-1\">viewed_cookie_policy</td><td class=\"cookielawinfo-column-3\">11 months</td><td class=\"cookielawinfo-column-4\">The cookie is set by the GDPR Cookie Consent plugin and is used to store whether or not user has consented to the use of cookies. It does not store any personal data.</td></tr>]"
      ]
     },
     "execution_count": 20,
     "metadata": {},
     "output_type": "execute_result"
    }
   ],
   "source": [
    "soup.find_all('tr')"
   ]
  },
  {
   "cell_type": "code",
   "execution_count": 45,
   "id": "5efd5327",
   "metadata": {},
   "outputs": [
    {
     "data": {
      "text/plain": [
       "<table aria-label=\"IPS\" class=\"foo-table ninja_footable foo_table_4457 ninja_table_unique_id_1768148976_4457 ui table blue ninja_search_center nt_search_full_width nt_type_ajax_table fixed selectable striped compact vertical_centered inverted footable-paging-right ninja_table_pro\" data-filter-delay=\"1000\" data-footable_id=\"4457\" data-ninja_table_instance=\"ninja_table_instance_1\" data-unique_identifier=\"ninja_table_unique_id_1768148976_4457\" id=\"footable_4457\">\n",
       "<colgroup>\n",
       "<col class=\"ninja_column_0\"/>\n",
       "<col class=\"ninja_column_1 xs\"/>\n",
       "<col class=\"ninja_column_2 xs sm\"/>\n",
       "<col class=\"ninja_column_3 xs sm\"/>\n",
       "<col class=\"ninja_column_4 xs\"/>\n",
       "<col class=\"ninja_column_5 xs\"/>\n",
       "<col class=\"ninja_column_6 xs sm\"/>\n",
       "<col class=\"ninja_column_7\"/>\n",
       "<col class=\"ninja_column_8 xs sm md lg\"/>\n",
       "<col class=\"ninja_column_9 xs sm md lg\"/>\n",
       "<col class=\"ninja_column_10 xs sm md lg\"/>\n",
       "<col class=\"ninja_column_11 xs sm md lg\"/>\n",
       "<col class=\"ninja_column_12 xs sm md lg\"/>\n",
       "<col class=\"ninja_column_13\"/>\n",
       "<col class=\"ninja_column_14\"/>\n",
       "<col class=\"ninja_column_15 hidden\"/>\n",
       "</colgroup>\n",
       "</table>"
      ]
     },
     "execution_count": 45,
     "metadata": {},
     "output_type": "execute_result"
    }
   ],
   "source": [
    "soup.find(id='footable_parent_4457').contents[1]"
   ]
  },
  {
   "cell_type": "code",
   "execution_count": 37,
   "id": "6cd2e698",
   "metadata": {},
   "outputs": [
    {
     "data": {
      "text/plain": [
       "[]"
      ]
     },
     "execution_count": 37,
     "metadata": {},
     "output_type": "execute_result"
    }
   ],
   "source": [
    "soup.find_all('td', class_=\"ninja_column_0\")"
   ]
  }
 ],
 "metadata": {
  "kernelspec": {
   "display_name": "Python 3 (ipykernel)",
   "language": "python",
   "name": "python3"
  },
  "language_info": {
   "codemirror_mode": {
    "name": "ipython",
    "version": 3
   },
   "file_extension": ".py",
   "mimetype": "text/x-python",
   "name": "python",
   "nbconvert_exporter": "python",
   "pygments_lexer": "ipython3",
   "version": "3.10.0"
  }
 },
 "nbformat": 4,
 "nbformat_minor": 5
}
